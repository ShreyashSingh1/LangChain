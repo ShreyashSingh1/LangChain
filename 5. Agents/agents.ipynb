{
 "cells": [
  {
   "cell_type": "markdown",
   "metadata": {},
   "source": [
    "## MutiSearch RAG application"
   ]
  },
  {
   "cell_type": "markdown",
   "metadata": {},
   "source": [
    "![Alt text](https://i.imgur.com/5IyyRl2.png)\n",
    "\n"
   ]
  },
  {
   "cell_type": "markdown",
   "metadata": {},
   "source": [
    "- In LangChain, \"tools\" refer to specific functionalities or external resources that an AI model can use to accomplish tasks beyond its basic capabilities. \n",
    "- These tools can interact with different APIs, databases, web browsers, or even perform computations to handle more complex queries. \n",
    "- They extend the functionality of language models by enabling them to interact with external systems."
   ]
  },
  {
   "cell_type": "code",
   "execution_count": 13,
   "metadata": {},
   "outputs": [],
   "source": [
    "from langchain_community.tools import WikipediaQueryRun\n",
    "from langchain_community.utilities import WikipediaAPIWrapper"
   ]
  },
  {
   "cell_type": "code",
   "execution_count": 14,
   "metadata": {},
   "outputs": [],
   "source": [
    "api_wrapper = WikipediaAPIWrapper(top_k_results=1, doc_content_chars_max=200)\n",
    "wiki = WikipediaQueryRun(api_wrapper=api_wrapper)"
   ]
  },
  {
   "cell_type": "code",
   "execution_count": 15,
   "metadata": {},
   "outputs": [
    {
     "data": {
      "text/plain": [
       "'wikipedia'"
      ]
     },
     "execution_count": 15,
     "metadata": {},
     "output_type": "execute_result"
    }
   ],
   "source": [
    "wiki.name"
   ]
  },
  {
   "cell_type": "code",
   "execution_count": 42,
   "metadata": {},
   "outputs": [
    {
     "data": {
      "text/plain": [
       "'Page: Data science\\nSummary: Data science is an interdisciplinary academic field that uses statistics, scientific computing, scientific methods, processing, scientific visualization, algorithms and sys'"
      ]
     },
     "execution_count": 42,
     "metadata": {},
     "output_type": "execute_result"
    }
   ],
   "source": [
    "wiki.run(\"Data Science\")"
   ]
  },
  {
   "cell_type": "code",
   "execution_count": 16,
   "metadata": {},
   "outputs": [
    {
     "data": {
      "text/plain": [
       "VectorStoreRetriever(tags=['FAISS', 'OllamaEmbeddings'], vectorstore=<langchain_community.vectorstores.faiss.FAISS object at 0x000001C32334BCD0>, search_kwargs={})"
      ]
     },
     "execution_count": 16,
     "metadata": {},
     "output_type": "execute_result"
    }
   ],
   "source": [
    "from langchain_community.document_loaders import WebBaseLoader\n",
    "from langchain_community.vectorstores import FAISS\n",
    "from langchain_community.embeddings import OllamaEmbeddings\n",
    "from langchain_community.vectorstores import FAISS\n",
    "from langchain_text_splitters import RecursiveCharacterTextSplitter\n",
    "\n",
    "# Data ingestion\n",
    "loader = WebBaseLoader(\"https://docs.smith.langchain.com/\")\n",
    "docs = loader.load()\n",
    "\n",
    "# Data Transformation\n",
    "documents = RecursiveCharacterTextSplitter(chunk_size=1000, chunk_overlap=200).split_documents(docs)\n",
    "\n",
    "# Embedding\n",
    "vectordb = FAISS.from_documents(documents, OllamaEmbeddings(model=\"llama3.2\"))\n",
    "retriever = vectordb.as_retriever()\n",
    "retriever\n"
   ]
  },
  {
   "cell_type": "code",
   "execution_count": 18,
   "metadata": {},
   "outputs": [],
   "source": [
    "from langchain.tools.retriever import create_retriever_tool\n",
    "\n",
    "# create_retriever_tool(retriever=retriever, name=\"langsmith_search\", \n",
    "# description=\"Search for information about LangSmith. For any questions about LangSmith, you must use this tool!\")\n",
    "\n",
    "retriever_tool = create_retriever_tool(\n",
    "    retriever=retriever,\n",
    "    name=\"LangSmith Search\",\n",
    "    description=\"Search for information about LangSmith. For any questions about LangSmith, you must use this tool!\"\n",
    ")"
   ]
  },
  {
   "cell_type": "code",
   "execution_count": 19,
   "metadata": {},
   "outputs": [
    {
     "data": {
      "text/plain": [
       "'LangSmith Search'"
      ]
     },
     "execution_count": 19,
     "metadata": {},
     "output_type": "execute_result"
    }
   ],
   "source": [
    "retriever_tool.name"
   ]
  },
  {
   "cell_type": "code",
   "execution_count": 71,
   "metadata": {},
   "outputs": [
    {
     "name": "stdout",
     "output_type": "stream",
     "text": [
      "Get started with LangSmith | ğŸ¦œï¸�ğŸ› ï¸� LangSmith\n",
      "\n",
      "Skip to main contentGo to API DocsSearchRegionUSEUGo to AppQuick startTutorialsHow-to guidesConceptsReferencePricingSelf-hostingLangGraph CloudQuick startOn this pageGet started with LangSmithLangSmith is a platform for building production-grade LLM applications. It allows you to closely monitor and evaluate your application, so you can ship quickly and with confidence. Use of LangChain is not necessary - LangSmith works on its own!1. Install LangSmithâ€‹PythonTypeScriptpip install -U langsmithyarn add langsmith2. Create an API keyâ€‹To create an API key head to the Settings page. Then click Create API Key.3. Set up your environmentâ€‹Shellexport LANGCHAIN_TRACING_V2=trueexport LANGCHAIN_API_KEY=<your-api-key># The below examples use the OpenAI API, though it's not necessary in generalexport OPENAI_API_KEY=<your-openai-api-key>4. Log your first traceâ€‹Tracing to LangSmith for LangChain usersThere is no need to use the LangSmith SDK directly if your application is built entirely on\n",
      "\n",
      "OPENAI_API_KEY=<your-openai-api-key>4. Log your first traceâ€‹Tracing to LangSmith for LangChain usersThere is no need to use the LangSmith SDK directly if your application is built entirely on LangChain (either Python and JS).We've outlined a tracing guide specifically for LangChain users here.We provide multiple ways to log traces to LangSmith. Below, we'll highlight\n",
      "\n",
      "description=\"A sample dataset in LangSmith.\")client.create_examples(    inputs=[        {\"postfix\": \"to LangSmith\"},        {\"postfix\": \"to Evaluations in LangSmith\"},    ],    outputs=[        {\"output\": \"Welcome to LangSmith\"},        {\"output\": \"Welcome to Evaluations in LangSmith\"},    ],    dataset_id=dataset.id,)# Define your evaluatordef exact_match(run, example):    return {\"score\": run.outputs[\"output\"] == example.outputs[\"output\"]}experiment_results = evaluate(    lambda input: \"Welcome \" + input['postfix'], # Your AI system goes here    data=dataset_name, # The data to predict and grade over    evaluators=[exact_match], # The evaluators to score the results    experiment_prefix=\"sample-experiment\", # The name of the experiment    metadata={      \"version\": \"1.0.0\",      \"revision_id\": \"beta\"    },)import { Client, Run, Example } from \"langsmith\";import { evaluate } from \"langsmith/evaluation\";import { EvaluationResult } from \"langsmith/evaluation\";const client = new\n"
     ]
    }
   ],
   "source": [
    "retrieved_data = retriever_tool.run(\"LangSmith\")\n",
    "print(retrieved_data)\n"
   ]
  },
  {
   "cell_type": "code",
   "execution_count": 20,
   "metadata": {},
   "outputs": [
    {
     "data": {
      "text/plain": [
       "'arxiv'"
      ]
     },
     "execution_count": 20,
     "metadata": {},
     "output_type": "execute_result"
    }
   ],
   "source": [
    "## Arxiv Tool\n",
    "from langchain_community.utilities import ArxivAPIWrapper\n",
    "from langchain_community.tools import ArxivQueryRun\n",
    "\n",
    "arxiv_wrapper = ArxivAPIWrapper(top_k_results=1, doc_content_chars_max=200)\n",
    "arxiv = ArxivQueryRun(api_wrapper=arxiv_wrapper)\n",
    "arxiv.name"
   ]
  },
  {
   "cell_type": "code",
   "execution_count": 44,
   "metadata": {},
   "outputs": [
    {
     "data": {
      "text/plain": [
       "'Published: 2008-02-04\\nTitle: This paper as been withdrawn\\nAuthors: R. K. Zheng\\nSummary: This paper as been withdrawn. This paper as been withdrawn. This paper as\\nbeen withdrawn. This paper as been wit'"
      ]
     },
     "execution_count": 44,
     "metadata": {},
     "output_type": "execute_result"
    }
   ],
   "source": [
    "arxiv.run(\"Paper 1234.578\")"
   ]
  },
  {
   "cell_type": "code",
   "execution_count": 57,
   "metadata": {},
   "outputs": [],
   "source": [
    "tools = [wiki, arxiv, retriever_tool]"
   ]
  },
  {
   "cell_type": "code",
   "execution_count": 53,
   "metadata": {},
   "outputs": [
    {
     "data": {
      "text/plain": [
       "[WikipediaQueryRun(api_wrapper=WikipediaAPIWrapper(wiki_client=<module 'wikipedia' from 'c:\\\\Users\\\\shrey\\\\anaconda3\\\\Lib\\\\site-packages\\\\wikipedia\\\\__init__.py'>, top_k_results=1, lang='en', load_all_available_meta=False, doc_content_chars_max=200)),\n",
       " ArxivQueryRun(api_wrapper=ArxivAPIWrapper(arxiv_search=<class 'arxiv.Search'>, arxiv_exceptions=(<class 'arxiv.ArxivError'>, <class 'arxiv.UnexpectedEmptyPageError'>, <class 'arxiv.HTTPError'>), top_k_results=1, ARXIV_MAX_QUERY_LENGTH=300, continue_on_failure=False, load_max_docs=100, load_all_available_meta=False, doc_content_chars_max=200)),\n",
       " Tool(name='LangSmith Search', description='Search for information about LangSmith. For any questions about LangSmith, you must use this tool!', args_schema=<class 'langchain_core.tools.retriever.RetrieverInput'>, func=functools.partial(<function _get_relevant_documents at 0x000001C3638D7920>, retriever=VectorStoreRetriever(tags=['FAISS', 'OllamaEmbeddings'], vectorstore=<langchain_community.vectorstores.faiss.FAISS object at 0x000001C32334BCD0>, search_kwargs={}), document_prompt=PromptTemplate(input_variables=['page_content'], input_types={}, partial_variables={}, template='{page_content}'), document_separator='\\n\\n'), coroutine=functools.partial(<function _aget_relevant_documents at 0x000001C364C46840>, retriever=VectorStoreRetriever(tags=['FAISS', 'OllamaEmbeddings'], vectorstore=<langchain_community.vectorstores.faiss.FAISS object at 0x000001C32334BCD0>, search_kwargs={}), document_prompt=PromptTemplate(input_variables=['page_content'], input_types={}, partial_variables={}, template='{page_content}'), document_separator='\\n\\n'))]"
      ]
     },
     "execution_count": 53,
     "metadata": {},
     "output_type": "execute_result"
    }
   ],
   "source": [
    "tools"
   ]
  },
  {
   "cell_type": "code",
   "execution_count": 66,
   "metadata": {},
   "outputs": [
    {
     "data": {
      "text/plain": [
       "[Tool(name='Wikipedia', description='Retrieves information from Wikipedia', func=<function <lambda> at 0x000001C32356F060>),\n",
       " Tool(name='ArXiv', description='Retrieves information from ArXiv', func=<function <lambda> at 0x000001C32356E840>),\n",
       " Tool(name='Retriever', description='Search for information about LangSmith. For any questions about LangSmith, you must use this tool!', func=<function <lambda> at 0x000001C32356EFC0>)]"
      ]
     },
     "execution_count": 66,
     "metadata": {},
     "output_type": "execute_result"
    }
   ],
   "source": [
    "from langchain.tools import Tool\n",
    "\n",
    "# Define the tools with wrapped functions\n",
    "tools = [\n",
    "    Tool(\n",
    "        name=\"Wikipedia\",\n",
    "        func=lambda query: wiki.run(query),\n",
    "        description=\"Retrieves information from Wikipedia\"\n",
    "    ),\n",
    "    Tool(\n",
    "        name=\"ArXiv\",\n",
    "        func=lambda query: arxiv.run(query),\n",
    "        description=\"Retrieves information from ArXiv\"\n",
    "    ),\n",
    "    Tool(\n",
    "        name=\"Retriever\",\n",
    "        func=lambda query: retriever_tool.run(query),\n",
    "        description=\"Search for information about LangSmith. For any questions about LangSmith, you must use this tool!\"\n",
    "    )\n",
    "]\n",
    "\n",
    "tools\n"
   ]
  },
  {
   "cell_type": "markdown",
   "metadata": {},
   "source": [
    "- In LangChain, agents are an advanced feature that allow a language model to interact with external environments by dynamically calling tools or APIs based on user queries. \n",
    "- Unlike static models that simply generate responses, agents are designed to autonomously decide which actions or tools to use and in what sequence, depending on the context of the task."
   ]
  },
  {
   "cell_type": "code",
   "execution_count": 63,
   "metadata": {},
   "outputs": [
    {
     "data": {
      "text/plain": [
       "Ollama(model='llama3.2')"
      ]
     },
     "execution_count": 63,
     "metadata": {},
     "output_type": "execute_result"
    }
   ],
   "source": [
    "from langchain_community.llms import Ollama\n",
    "llm = Ollama(model=\"llama3.2\")\n",
    "llm"
   ]
  },
  {
   "cell_type": "code",
   "execution_count": 75,
   "metadata": {},
   "outputs": [
    {
     "data": {
      "text/plain": [
       "AgentExecutor(verbose=True, tags=['zero-shot-react-description'], agent=ZeroShotAgent(llm_chain=LLMChain(verbose=False, prompt=PromptTemplate(input_variables=['agent_scratchpad', 'input'], input_types={}, partial_variables={}, template='Answer the following questions as best you can. You have access to the following tools:\\n\\nWikipedia(query) - Retrieves information from Wikipedia\\nArXiv(query) - Retrieves information from ArXiv\\nRetriever(query) - Search for information about LangSmith. For any questions about LangSmith, you must use this tool!\\n\\nUse the following format:\\n\\nQuestion: the input question you must answer\\nThought: you should always think about what to do\\nAction: the action to take, should be one of [Wikipedia, ArXiv, Retriever]\\nAction Input: the input to the action\\nObservation: the result of the action\\n... (this Thought/Action/Action Input/Observation can repeat N times)\\nThought: I now know the final answer\\nFinal Answer: the final answer to the original input question\\n\\nBegin!\\n\\nQuestion: {input}\\nThought:{agent_scratchpad}'), llm=Ollama(model='llama3.2'), output_parser=StrOutputParser(), llm_kwargs={}), output_parser=MRKLOutputParser(), allowed_tools=['Wikipedia', 'ArXiv', 'Retriever']), tools=[Tool(name='Wikipedia', description='Retrieves information from Wikipedia', func=<function <lambda> at 0x000001C32356F060>), Tool(name='ArXiv', description='Retrieves information from ArXiv', func=<function <lambda> at 0x000001C32356E840>), Tool(name='Retriever', description='Search for information about LangSmith. For any questions about LangSmith, you must use this tool!', func=<function <lambda> at 0x000001C32356EFC0>)], max_iterations=4)"
      ]
     },
     "execution_count": 75,
     "metadata": {},
     "output_type": "execute_result"
    }
   ],
   "source": [
    "from langchain.agents import initialize_agent\n",
    "\n",
    "agent = initialize_agent(\n",
    "    llm=llm,\n",
    "    tools=tools,\n",
    "    agent_type=\"zero-shot-react-description\",\n",
    "    verbose=True,\n",
    "    max_iterations=4  \n",
    ")\n",
    "agent"
   ]
  },
  {
   "cell_type": "code",
   "execution_count": null,
   "metadata": {},
   "outputs": [],
   "source": [
    "try:\n",
    "    result = agent.invoke({\"input\": \"What is LangSmith?\"}) \n",
    "    print(result)\n",
    "      \n",
    "except Exception as e:\n",
    "    print(f\"Error: {e}\")\n"
   ]
  },
  {
   "cell_type": "code",
   "execution_count": 69,
   "metadata": {},
   "outputs": [
    {
     "name": "stdout",
     "output_type": "stream",
     "text": [
      "\n",
      "\n",
      "\u001b[1m> Entering new AgentExecutor chain...\u001b[0m\n",
      "\u001b[32;1m\u001b[1;3mAction: ArXiv\n",
      "Action Input: 1605.08386\u001b[0m\n",
      "Observation: \u001b[33;1m\u001b[1;3mPublished: 2016-05-26\n",
      "Title: Heat-bath random walks with Markov bases\n",
      "Authors: Caprice Stanley, Tobias Windisch\n",
      "Summary: Graphs on lattice points are studied whose edges come from a finite set of\n",
      "allo\u001b[0m\n",
      "Thought:\u001b[32;1m\u001b[1;3mQuestion: What's the paper 1605.08386 about?\n",
      "\n",
      "Thought: I need to find more information about this paper.\n",
      "\n",
      "Action: Wikipedia\n",
      "Action Input: 1605.08386\u001b[0m\n",
      "Observation: \u001b[36;1m\u001b[1;3mPage: Lunar Saros 111\n",
      "Summary: Saros cycle series 111 for lunar eclipses occurs at the moon's descending node, repeats every 18 years 11 and 1/3 days. It contains 71 events.\n",
      "The first total lunar ecli\u001b[0m\n",
      "Thought:\u001b[32;1m\u001b[1;3mQuestion: What's the paper 1605.08386 about?\n",
      "\n",
      "Thought: I need to find more information about this paper.\n",
      "\n",
      "Action: Wikipedia\n",
      "Action Input: 1605.08386\u001b[0m\n",
      "Observation: \u001b[36;1m\u001b[1;3mPage: Lunar Saros 111\n",
      "Summary: Saros cycle series 111 for lunar eclipses occurs at the moon's descending node, repeats every 18 years 11 and 1/3 days. It contains 71 events.\n",
      "The first total lunar ecli\u001b[0m\n",
      "Thought:\u001b[32;1m\u001b[1;3mFinal Answer: The paper 1605.08386 is about Heat-bath random walks with Markov bases, but it does not appear to be directly related to the Saros cycle series 111 for lunar eclipses.\u001b[0m\n",
      "\n",
      "\u001b[1m> Finished chain.\u001b[0m\n",
      "{'input': \"What's the paper 1605.08386 about?\", 'output': 'The paper 1605.08386 is about Heat-bath random walks with Markov bases, but it does not appear to be directly related to the Saros cycle series 111 for lunar eclipses.'}\n"
     ]
    }
   ],
   "source": [
    "try:\n",
    "    result = agent.invoke({\"input\":\"What's the paper 1605.08386 about?\"})  \n",
    "    print(result)\n",
    "except TypeError as e:\n",
    "    print(f\"Error: {e}\")\n"
   ]
  },
  {
   "cell_type": "code",
   "execution_count": 70,
   "metadata": {},
   "outputs": [
    {
     "name": "stdout",
     "output_type": "stream",
     "text": [
      "\n",
      "\n",
      "\u001b[1m> Entering new AgentExecutor chain...\u001b[0m\n",
      "\u001b[32;1m\u001b[1;3mQuestion: What is Machine Learning\n",
      "\n",
      "Thought: I need to understand what machine learning is, but I don't know where to start.\n",
      "\n",
      "Action: Wikipedia\n",
      "Action Input: \"machine learning\u001b[0m\n",
      "Observation: \u001b[36;1m\u001b[1;3mPage: Machine learning\n",
      "Summary: Machine learning (ML) is a field of study in artificial intelligence concerned with the development and study of statistical algorithms that can learn from data and gen\u001b[0m\n",
      "Thought:\u001b[32;1m\u001b[1;3mQuestion: What is Machine Learning\n",
      "\n",
      "Thought: Question: What is Machine Learning\n",
      "\n",
      "Thought: I need to understand what machine learning is, but I don't know where to start.\n",
      "\n",
      "Action: Wikipedia\n",
      "Action Input: \"machine learning\u001b[0m\n",
      "Observation: \u001b[36;1m\u001b[1;3mPage: Machine learning\n",
      "Summary: Machine learning (ML) is a field of study in artificial intelligence concerned with the development and study of statistical algorithms that can learn from data and gen\u001b[0m\n",
      "Thought:\u001b[32;1m\u001b[1;3mQuestion: What is Machine Learning\n",
      "\n",
      "Thought: Question: What is Machine Learning\n",
      "\n",
      "Thought: Question: What is Machine Learning\n",
      "\n",
      "Thought: I need to understand what machine learning is, but I don't know where to start.\n",
      "\n",
      "Action: Wikipedia\n",
      "Action Input: \"machine learning\u001b[0m\n",
      "Observation: \u001b[36;1m\u001b[1;3mPage: Machine learning\n",
      "Summary: Machine learning (ML) is a field of study in artificial intelligence concerned with the development and study of statistical algorithms that can learn from data and gen\u001b[0m\n",
      "Thought:\u001b[32;1m\u001b[1;3mQuestion: What is Machine Learning\n",
      "\n",
      "Thought: I need to understand what machine learning is, but I don't know where to start.\n",
      "\n",
      "Action: Wikipedia\n",
      "Action Input: \"machine learning\u001b[0m\n",
      "Observation: \u001b[36;1m\u001b[1;3mPage: Machine learning\n",
      "Summary: Machine learning (ML) is a field of study in artificial intelligence concerned with the development and study of statistical algorithms that can learn from data and gen\u001b[0m\n",
      "Thought:\u001b[32;1m\u001b[1;3mQuestion: What is Machine Learning\n",
      "\n",
      "Thought: Question: What is Machine Learning\n",
      "\n",
      "Thought: I need to understand what machine learning is, but I don't know where to start.\n",
      "\n",
      "Action: Wikipedia\n",
      "Action Input: \"machine learning\u001b[0m\n",
      "Observation: \u001b[36;1m\u001b[1;3mPage: Machine learning\n",
      "Summary: Machine learning (ML) is a field of study in artificial intelligence concerned with the development and study of statistical algorithms that can learn from data and gen\u001b[0m\n",
      "Thought:\u001b[32;1m\u001b[1;3mI'll help you answer your questions about Machine Learning.\n",
      "\n",
      "Question: What is Machine Learning\n",
      "\n",
      "Thought: I need to understand what machine learning is, but I don't know where to start.\n",
      "\n",
      "Action: Wikipedia\n",
      "Action Input: \"machine learning\u001b[0m\n",
      "Observation: \u001b[36;1m\u001b[1;3mPage: Machine learning\n",
      "Summary: Machine learning (ML) is a field of study in artificial intelligence concerned with the development and study of statistical algorithms that can learn from data and gen\u001b[0m\n",
      "Thought:\u001b[32;1m\u001b[1;3mQuestion: What is Machine Learning\n",
      "\n",
      "Thought: Question: What is Machine Learning\n",
      "\n",
      "Thought: Question: What is Machine Learning\n",
      "\n",
      "Thought: I need to understand what machine learning is, but I don't know where to start.\n",
      "\n",
      "Action: Wikipedia\n",
      "Action Input: \"machine learning\u001b[0m\n",
      "Observation: \u001b[36;1m\u001b[1;3mPage: Machine learning\n",
      "Summary: Machine learning (ML) is a field of study in artificial intelligence concerned with the development and study of statistical algorithms that can learn from data and gen\u001b[0m\n",
      "Thought:\u001b[32;1m\u001b[1;3mQuestion: What is Machine Learning\n",
      "\n",
      "Thought: Question: What is Machine Learning\n",
      "\n",
      "Thought: I need to understand what machine learning is, but I don't know where to start.\n",
      "\n",
      "Action: Wikipedia\n",
      "Action Input: \"machine learning\u001b[0m\n",
      "Observation: \u001b[36;1m\u001b[1;3mPage: Machine learning\n",
      "Summary: Machine learning (ML) is a field of study in artificial intelligence concerned with the development and study of statistical algorithms that can learn from data and gen\u001b[0m\n",
      "Thought:\u001b[32;1m\u001b[1;3mQuestion: What is Machine Learning\n",
      "\n",
      "Thought: I need to understand what machine learning is, but I don't know where to start.\n",
      "\n",
      "Action: Wikipedia\n",
      "Action Input: \"machine learning\u001b[0m\n",
      "Observation: \u001b[36;1m\u001b[1;3mPage: Machine learning\n",
      "Summary: Machine learning (ML) is a field of study in artificial intelligence concerned with the development and study of statistical algorithms that can learn from data and gen\u001b[0m\n",
      "Thought:\u001b[32;1m\u001b[1;3mQuestion: What is Machine Learning\n",
      "\n",
      "Thought: I need to understand what machine learning is, but I don't know where to start.\n",
      "\n",
      "Action: Wikipedia\n",
      "Action Input: \"machine learning\u001b[0m\n",
      "Observation: \u001b[36;1m\u001b[1;3mPage: Machine learning\n",
      "Summary: Machine learning (ML) is a field of study in artificial intelligence concerned with the development and study of statistical algorithms that can learn from data and gen\u001b[0m\n",
      "Thought:\u001b[32;1m\u001b[1;3mQuestion: What is Machine Learning\n",
      "\n",
      "Thought: I need to understand what machine learning is, but I don't know where to start.\n",
      "\n",
      "Action: Wikipedia\n",
      "Action Input: \"machine learning\u001b[0m\n",
      "Observation: \u001b[36;1m\u001b[1;3mPage: Machine learning\n",
      "Summary: Machine learning (ML) is a field of study in artificial intelligence concerned with the development and study of statistical algorithms that can learn from data and gen\u001b[0m\n",
      "Thought:\u001b[32;1m\u001b[1;3mQuestion: What is Machine Learning\n",
      "\n",
      "Thought: I need to understand what machine learning is, but I don't know where to start.\n",
      "\n",
      "Action: Wikipedia\n",
      "Action Input: \"machine learning\u001b[0m\n",
      "Observation: \u001b[36;1m\u001b[1;3mPage: Machine learning\n",
      "Summary: Machine learning (ML) is a field of study in artificial intelligence concerned with the development and study of statistical algorithms that can learn from data and gen\u001b[0m\n",
      "Thought:\u001b[32;1m\u001b[1;3mQuestion: What is Machine Learning\n",
      "Thought: I need to understand what machine learning is, but I don't know where to start.\n",
      "\n",
      "Action: Wikipedia\n",
      "Action Input: \"machine learning\u001b[0m\n",
      "Observation: \u001b[36;1m\u001b[1;3mPage: Machine learning\n",
      "Summary: Machine learning (ML) is a field of study in artificial intelligence concerned with the development and study of statistical algorithms that can learn from data and gen\u001b[0m\n",
      "Thought:\u001b[32;1m\u001b[1;3mQuestion: What is Machine Learning\n",
      "Thought: Question: What is Machine Learning\n",
      "\n",
      "Thought: Question: What is Machine Learning\n",
      "\n",
      "Thought: I need to understand what machine learning is, but I don't know where to start.\n",
      "\n",
      "Action: Wikipedia\n",
      "Action Input: \"machine learning\u001b[0m\n",
      "Observation: \u001b[36;1m\u001b[1;3mPage: Machine learning\n",
      "Summary: Machine learning (ML) is a field of study in artificial intelligence concerned with the development and study of statistical algorithms that can learn from data and gen\u001b[0m\n",
      "Thought:\u001b[32;1m\u001b[1;3mQuestion: What is Machine Learning\n",
      "\n",
      "Thought: Question: What is Machine Learning\n",
      "\n",
      "Thought: Question: What is Machine Learning\n",
      "\n",
      "Thought: I need to understand what machine learning is, but I don't know where to start.\n",
      "\n",
      "Action: Wikipedia\n",
      "Action Input: \"machine learning\u001b[0m\n",
      "Observation: \u001b[36;1m\u001b[1;3mPage: Machine learning\n",
      "Summary: Machine learning (ML) is a field of study in artificial intelligence concerned with the development and study of statistical algorithms that can learn from data and gen\u001b[0m\n",
      "Thought:\u001b[32;1m\u001b[1;3m\u001b[0m\n",
      "\n",
      "\u001b[1m> Finished chain.\u001b[0m\n",
      "{'input': 'What is MAchine LEarning', 'output': 'Agent stopped due to iteration limit or time limit.'}\n"
     ]
    }
   ],
   "source": [
    "try:\n",
    "    result = agent.invoke({\"input\":\"What is MAchine LEarning\"})  \n",
    "    print(result)\n",
    "except TypeError as e:\n",
    "    print(f\"Error: {e}\")"
   ]
  }
 ],
 "metadata": {
  "kernelspec": {
   "display_name": "base",
   "language": "python",
   "name": "python3"
  },
  "language_info": {
   "codemirror_mode": {
    "name": "ipython",
    "version": 3
   },
   "file_extension": ".py",
   "mimetype": "text/x-python",
   "name": "python",
   "nbconvert_exporter": "python",
   "pygments_lexer": "ipython3",
   "version": "3.11.7"
  }
 },
 "nbformat": 4,
 "nbformat_minor": 2
}
